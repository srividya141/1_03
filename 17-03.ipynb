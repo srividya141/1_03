{
 "cells": [
  {
   "cell_type": "markdown",
   "id": "e74abc93",
   "metadata": {},
   "source": [
    "#### Cloud computing"
   ]
  },
  {
   "cell_type": "code",
   "execution_count": null,
   "id": "e94c5c8d",
   "metadata": {},
   "outputs": [],
   "source": [
    "Cloud computing refers to the delivery of computing services such as storage, processing power, databases, \n",
    "networking, software, and analytics over the internet (\"the cloud\"). It allows individuals and organizations to access and \n",
    "use technology resources without the need to own or maintain physical infrastructure."
   ]
  },
  {
   "cell_type": "code",
   "execution_count": null,
   "id": "57831044",
   "metadata": {},
   "outputs": [],
   "source": [
    "There are different types of cloud computing services:\n",
    "\n",
    "Infrastructure as a Service (IaaS): \n",
    "Provides virtualized computing resources over the internet. Examples include Amazon Web Services (AWS), Microsoft Azure, and Google Cloud. With IaaS, users can rent virtual machines, storage, and networking components.\n",
    "\n",
    "Platform as a Service (PaaS): \n",
    "Offers a platform allowing customers to develop, run, and manage applications without dealing with the underlying infrastructure. Examples include Heroku, Google App Engine, and Microsoft Azure App Services.\n",
    "\n",
    "Software as a Service (SaaS): \n",
    "Delivers software applications over the internet on a subscription basis. Examples include Gmail, Microsoft Office 365, and Salesforce.\n",
    "\n",
    "Function as a Service (FaaS):\n",
    "A serverless computing model where developers can run code in response to events without managing servers. AWS Lambda and Google Cloud Functions are examples of FaaS."
   ]
  },
  {
   "cell_type": "code",
   "execution_count": null,
   "id": "41b0095c",
   "metadata": {},
   "outputs": [],
   "source": [
    "Cloud computing provides several benefits:\n",
    "- **Scalability**: Resources can be scaled up or down based on demand.\n",
    "- **Cost-efficiency**: Pay-as-you-go models mean users only pay for what they use.\n",
    "- **Accessibility**: Cloud services are available from anywhere with an internet connection.\n",
    "- **Flexibility**: Users can select the services they need, from storage to computing power."
   ]
  }
 ],
 "metadata": {
  "kernelspec": {
   "display_name": "Python 3 (ipykernel)",
   "language": "python",
   "name": "python3"
  },
  "language_info": {
   "codemirror_mode": {
    "name": "ipython",
    "version": 3
   },
   "file_extension": ".py",
   "mimetype": "text/x-python",
   "name": "python",
   "nbconvert_exporter": "python",
   "pygments_lexer": "ipython3",
   "version": "3.11.4"
  }
 },
 "nbformat": 4,
 "nbformat_minor": 5
}
